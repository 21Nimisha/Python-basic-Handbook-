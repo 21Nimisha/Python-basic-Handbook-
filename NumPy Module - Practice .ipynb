{
 "cells": [
  {
   "cell_type": "markdown",
   "metadata": {},
   "source": [
    "Numpy an acronym for Numerical Python, is a package to perform scientific computing in python efficiently.\n",
    "It includes Random number generation , functions for basic linear algebra, fourier transforms as well as ."
   ]
  },
  {
   "cell_type": "code",
   "execution_count": 1,
   "metadata": {},
   "outputs": [],
   "source": [
    "import numpy as np"
   ]
  },
  {
   "cell_type": "markdown",
   "metadata": {},
   "source": [
    "# Numpy Arrays\n",
    "\n"
   ]
  },
  {
   "cell_type": "code",
   "execution_count": 2,
   "metadata": {},
   "outputs": [],
   "source": [
    "# Calculating PCR through Numpy arrays"
   ]
  },
  {
   "cell_type": "code",
   "execution_count": 3,
   "metadata": {},
   "outputs": [],
   "source": [
    "put_vol = [52.89, 45.14, 63.84, 77.1,74.6]"
   ]
  },
  {
   "cell_type": "code",
   "execution_count": 4,
   "metadata": {},
   "outputs": [],
   "source": [
    "call_vol = [49.51,50.45, 59.11,80.49,65.11] # volume in lacs"
   ]
  },
  {
   "cell_type": "code",
   "execution_count": 5,
   "metadata": {},
   "outputs": [],
   "source": [
    "n_put_vol = np.array(put_vol)"
   ]
  },
  {
   "cell_type": "code",
   "execution_count": 6,
   "metadata": {},
   "outputs": [],
   "source": [
    "n_call_vol = np.array(call_vol)"
   ]
  },
  {
   "cell_type": "code",
   "execution_count": 7,
   "metadata": {},
   "outputs": [],
   "source": [
    "pcr = n_put_vol/n_call_vol"
   ]
  },
  {
   "cell_type": "code",
   "execution_count": 8,
   "metadata": {},
   "outputs": [
    {
     "data": {
      "text/plain": [
       "array([1.06826904, 0.89474727, 1.0800203 , 0.95788297, 1.14575334])"
      ]
     },
     "execution_count": 8,
     "metadata": {},
     "output_type": "execute_result"
    }
   ],
   "source": [
    "pcr"
   ]
  },
  {
   "cell_type": "code",
   "execution_count": 9,
   "metadata": {},
   "outputs": [],
   "source": [
    "# Creating lists"
   ]
  },
  {
   "cell_type": "code",
   "execution_count": 10,
   "metadata": {},
   "outputs": [],
   "source": [
    "list1 = [1,2,3]"
   ]
  },
  {
   "cell_type": "code",
   "execution_count": 11,
   "metadata": {},
   "outputs": [],
   "source": [
    "list2 = [5,6,4]"
   ]
  },
  {
   "cell_type": "code",
   "execution_count": 12,
   "metadata": {},
   "outputs": [],
   "source": [
    "# adding two lists\n",
    "# adding list together only paster two columns and generate a list with 6 elements."
   ]
  },
  {
   "cell_type": "code",
   "execution_count": 13,
   "metadata": {},
   "outputs": [
    {
     "data": {
      "text/plain": [
       "[1, 2, 3, 5, 6, 4]"
      ]
     },
     "execution_count": 13,
     "metadata": {},
     "output_type": "execute_result"
    }
   ],
   "source": [
    "list1 + list2"
   ]
  },
  {
   "cell_type": "code",
   "execution_count": 14,
   "metadata": {},
   "outputs": [],
   "source": [
    "# Creating Arrays"
   ]
  },
  {
   "cell_type": "code",
   "execution_count": 15,
   "metadata": {},
   "outputs": [],
   "source": [
    "arr1 = np.array([1,2,3])"
   ]
  },
  {
   "cell_type": "code",
   "execution_count": 16,
   "metadata": {},
   "outputs": [],
   "source": [
    "arr2 = np.array([5,6,4])"
   ]
  },
  {
   "cell_type": "code",
   "execution_count": 17,
   "metadata": {},
   "outputs": [
    {
     "data": {
      "text/plain": [
       "array([6, 8, 7])"
      ]
     },
     "execution_count": 17,
     "metadata": {},
     "output_type": "execute_result"
    }
   ],
   "source": [
    "arr1+ arr2  # in array if we do + it will add sum element wise in arrays"
   ]
  },
  {
   "cell_type": "code",
   "execution_count": 18,
   "metadata": {},
   "outputs": [],
   "source": [
    "arr3 = np.array([1,2,4,6])"
   ]
  },
  {
   "cell_type": "code",
   "execution_count": 20,
   "metadata": {},
   "outputs": [
    {
     "ename": "ValueError",
     "evalue": "operands could not be broadcast together with shapes (3,) (4,) ",
     "output_type": "error",
     "traceback": [
      "\u001b[1;31m---------------------------------------------------------------------------\u001b[0m",
      "\u001b[1;31mValueError\u001b[0m                                Traceback (most recent call last)",
      "\u001b[1;32m<ipython-input-20-34fa39500f9a>\u001b[0m in \u001b[0;36m<module>\u001b[1;34m\u001b[0m\n\u001b[1;32m----> 1\u001b[1;33m \u001b[0marr2\u001b[0m \u001b[1;33m+\u001b[0m \u001b[0marr3\u001b[0m \u001b[1;31m# as u can see if element size is not equal it will through error\u001b[0m\u001b[1;33m\u001b[0m\u001b[1;33m\u001b[0m\u001b[0m\n\u001b[0m",
      "\u001b[1;31mValueError\u001b[0m: operands could not be broadcast together with shapes (3,) (4,) "
     ]
    }
   ],
   "source": [
    "arr2 + arr3 # as u can see if element size is not equal it will through error"
   ]
  },
  {
   "cell_type": "code",
   "execution_count": 21,
   "metadata": {},
   "outputs": [],
   "source": [
    "# checking array type"
   ]
  },
  {
   "cell_type": "code",
   "execution_count": 23,
   "metadata": {},
   "outputs": [
    {
     "data": {
      "text/plain": [
       "numpy.ndarray"
      ]
     },
     "execution_count": 23,
     "metadata": {},
     "output_type": "execute_result"
    }
   ],
   "source": [
    "type(arr1)  # ndarray stands for N-Dimensional Array"
   ]
  },
  {
   "cell_type": "code",
   "execution_count": 24,
   "metadata": {},
   "outputs": [],
   "source": [
    "# Creating 2 Dimensional array"
   ]
  },
  {
   "cell_type": "code",
   "execution_count": 25,
   "metadata": {},
   "outputs": [],
   "source": [
    "n_2d = np.array([put_vol , call_vol])"
   ]
  },
  {
   "cell_type": "code",
   "execution_count": 26,
   "metadata": {},
   "outputs": [
    {
     "data": {
      "text/plain": [
       "array([[52.89, 45.14, 63.84, 77.1 , 74.6 ],\n",
       "       [49.51, 50.45, 59.11, 80.49, 65.11]])"
      ]
     },
     "execution_count": 26,
     "metadata": {},
     "output_type": "execute_result"
    }
   ],
   "source": [
    "n_2d\n",
    "\n",
    "# n2d is rectagunlar data structure. "
   ]
  },
  {
   "cell_type": "markdown",
   "metadata": {},
   "source": [
    "# Array creation using Built In function"
   ]
  },
  {
   "cell_type": "markdown",
   "metadata": {},
   "source": [
    "# Zeros(shape, dtype = flaot)\n",
    "\n",
    "returns an array of given shape and type, filled with zeros. if the dtype is not provided as an input, the default type for the \n",
    "array would be float"
   ]
  },
  {
   "cell_type": "code",
   "execution_count": 27,
   "metadata": {},
   "outputs": [],
   "source": [
    "# Creating one - dimenional array"
   ]
  },
  {
   "cell_type": "code",
   "execution_count": 28,
   "metadata": {},
   "outputs": [
    {
     "data": {
      "text/plain": [
       "array([0., 0., 0., 0., 0., 0., 0., 0., 0., 0.])"
      ]
     },
     "execution_count": 28,
     "metadata": {},
     "output_type": "execute_result"
    }
   ],
   "source": [
    "np.zeros(10)"
   ]
  },
  {
   "cell_type": "code",
   "execution_count": 29,
   "metadata": {},
   "outputs": [],
   "source": [
    "# Creating a 2 dimensional array"
   ]
  },
  {
   "cell_type": "code",
   "execution_count": 30,
   "metadata": {},
   "outputs": [
    {
     "data": {
      "text/plain": [
       "array([[0., 0., 0., 0., 0.],\n",
       "       [0., 0., 0., 0., 0.],\n",
       "       [0., 0., 0., 0., 0.]])"
      ]
     },
     "execution_count": 30,
     "metadata": {},
     "output_type": "execute_result"
    }
   ],
   "source": [
    "np.zeros((3,5))"
   ]
  },
  {
   "cell_type": "code",
   "execution_count": 31,
   "metadata": {},
   "outputs": [],
   "source": [
    "# Creating a one dimensional array of integer type"
   ]
  },
  {
   "cell_type": "code",
   "execution_count": 32,
   "metadata": {},
   "outputs": [
    {
     "data": {
      "text/plain": [
       "array([0, 0, 0, 0, 0])"
      ]
     },
     "execution_count": 32,
     "metadata": {},
     "output_type": "execute_result"
    }
   ],
   "source": [
    "np.zeros(5, dtype = int)"
   ]
  },
  {
   "cell_type": "markdown",
   "metadata": {},
   "source": [
    "# Ones(shape, dtype = float)\n",
    "\n",
    "returns an array of given shape and type filled with ones. "
   ]
  },
  {
   "cell_type": "code",
   "execution_count": 33,
   "metadata": {},
   "outputs": [],
   "source": [
    "# Creating a one dimensional array"
   ]
  },
  {
   "cell_type": "code",
   "execution_count": 35,
   "metadata": {},
   "outputs": [
    {
     "data": {
      "text/plain": [
       "array([1., 1., 1., 1., 1.])"
      ]
     },
     "execution_count": 35,
     "metadata": {},
     "output_type": "execute_result"
    }
   ],
   "source": [
    "np.ones(5)"
   ]
  },
  {
   "cell_type": "code",
   "execution_count": 36,
   "metadata": {},
   "outputs": [
    {
     "data": {
      "text/plain": [
       "array([1, 1, 1, 1, 1])"
      ]
     },
     "execution_count": 36,
     "metadata": {},
     "output_type": "execute_result"
    }
   ],
   "source": [
    "np.ones(5, dtype = int)"
   ]
  },
  {
   "cell_type": "markdown",
   "metadata": {},
   "source": [
    "# Full(shape, fill_value, dtype = None)\n",
    "\n",
    "returns an array of given shape and type, fill with fill_value given in input parameters"
   ]
  },
  {
   "cell_type": "code",
   "execution_count": 37,
   "metadata": {},
   "outputs": [],
   "source": [
    "#Creating a one dimensional array wwith value as 12"
   ]
  },
  {
   "cell_type": "code",
   "execution_count": 38,
   "metadata": {},
   "outputs": [
    {
     "data": {
      "text/plain": [
       "array([12, 12, 12, 12, 12])"
      ]
     },
     "execution_count": 38,
     "metadata": {},
     "output_type": "execute_result"
    }
   ],
   "source": [
    "    np.full(5,12)"
   ]
  },
  {
   "cell_type": "code",
   "execution_count": 39,
   "metadata": {},
   "outputs": [],
   "source": [
    "# creating a 2 dimensional array with fill value as 9"
   ]
  },
  {
   "cell_type": "code",
   "execution_count": 40,
   "metadata": {},
   "outputs": [
    {
     "data": {
      "text/plain": [
       "array([[9, 9, 9, 9],\n",
       "       [9, 9, 9, 9]])"
      ]
     },
     "execution_count": 40,
     "metadata": {},
     "output_type": "execute_result"
    }
   ],
   "source": [
    "np.full((2,4),9)"
   ]
  },
  {
   "cell_type": "markdown",
   "metadata": {},
   "source": [
    "# arange([start,]stop,[step])\n",
    "\n",
    "returns an array with evenly spaced values within a given interval. if start and step parameter are not given then range start with 0."
   ]
  },
  {
   "cell_type": "code",
   "execution_count": 41,
   "metadata": {},
   "outputs": [],
   "source": [
    "# Creating an array with only stop argument"
   ]
  },
  {
   "cell_type": "code",
   "execution_count": 42,
   "metadata": {},
   "outputs": [
    {
     "data": {
      "text/plain": [
       "array([0, 1, 2, 3, 4])"
      ]
     },
     "execution_count": 42,
     "metadata": {},
     "output_type": "execute_result"
    }
   ],
   "source": [
    "np.arange(5)"
   ]
  },
  {
   "cell_type": "code",
   "execution_count": 43,
   "metadata": {},
   "outputs": [],
   "source": [
    "# Creating an array with start and stop arguments"
   ]
  },
  {
   "cell_type": "code",
   "execution_count": 44,
   "metadata": {},
   "outputs": [
    {
     "data": {
      "text/plain": [
       "array([ 5,  6,  7,  8,  9, 10, 11])"
      ]
     },
     "execution_count": 44,
     "metadata": {},
     "output_type": "execute_result"
    }
   ],
   "source": [
    "np.arange(5,12)"
   ]
  },
  {
   "cell_type": "code",
   "execution_count": 45,
   "metadata": {},
   "outputs": [],
   "source": [
    "# creating an array with given interval and step value as 0.5"
   ]
  },
  {
   "cell_type": "code",
   "execution_count": 46,
   "metadata": {},
   "outputs": [
    {
     "data": {
      "text/plain": [
       "array([3. , 3.5, 4. , 4.5, 5. , 5.5, 6. , 6.5, 7. , 7.5])"
      ]
     },
     "execution_count": 46,
     "metadata": {},
     "output_type": "execute_result"
    }
   ],
   "source": [
    "np.arange(3,8,0.5)"
   ]
  },
  {
   "cell_type": "markdown",
   "metadata": {},
   "source": [
    "# Linespace(start, stop, num=50, endpoint = True)\n",
    "\n",
    "returns evenly spaced numbers over a specified interval. The number of samples to be returned is specified with the num parameter. the endpoint of the interval can optionally be excluded."
   ]
  },
  {
   "cell_type": "code",
   "execution_count": 47,
   "metadata": {},
   "outputs": [],
   "source": [
    "# Creating an evenly spaced array with five numbers within interval 2 to 3"
   ]
  },
  {
   "cell_type": "code",
   "execution_count": 48,
   "metadata": {},
   "outputs": [
    {
     "data": {
      "text/plain": [
       "array([2.  , 2.25, 2.5 , 2.75, 3.  ])"
      ]
     },
     "execution_count": 48,
     "metadata": {},
     "output_type": "execute_result"
    }
   ],
   "source": [
    "np.linspace(2.0, 3.0, num = 5)"
   ]
  },
  {
   "cell_type": "code",
   "execution_count": 49,
   "metadata": {},
   "outputs": [],
   "source": [
    "# creating an array excluding end value"
   ]
  },
  {
   "cell_type": "code",
   "execution_count": 50,
   "metadata": {},
   "outputs": [
    {
     "data": {
      "text/plain": [
       "array([2. , 2.1, 2.2, 2.3, 2.4, 2.5, 2.6, 2.7, 2.8, 2.9])"
      ]
     },
     "execution_count": 50,
     "metadata": {},
     "output_type": "execute_result"
    }
   ],
   "source": [
    "np.linspace(2.0, 3.0, num = 10, endpoint = False)"
   ]
  },
  {
   "cell_type": "markdown",
   "metadata": {},
   "source": [
    "# Random Sampling in NumPy"
   ]
  },
  {
   "cell_type": "markdown",
   "metadata": {},
   "source": [
    "# rand([d0, d1,.......dn])\n",
    "\n",
    "it is used to create an array of given shape and populate it with random number from a uniform distribution over [0,1)\n",
    "\n",
    "it takes only positive arguments.\n",
    "\n",
    "if no argument is proivde singl float value is returned"
   ]
  },
  {
   "cell_type": "code",
   "execution_count": 51,
   "metadata": {},
   "outputs": [],
   "source": [
    "# Generating single random number"
   ]
  },
  {
   "cell_type": "code",
   "execution_count": 52,
   "metadata": {},
   "outputs": [
    {
     "data": {
      "text/plain": [
       "0.8583298730600777"
      ]
     },
     "execution_count": 52,
     "metadata": {},
     "output_type": "execute_result"
    }
   ],
   "source": [
    "np.random.rand()"
   ]
  },
  {
   "cell_type": "code",
   "execution_count": 53,
   "metadata": {},
   "outputs": [],
   "source": [
    "# Generating a one-dimensional array with four random values"
   ]
  },
  {
   "cell_type": "code",
   "execution_count": 54,
   "metadata": {},
   "outputs": [
    {
     "data": {
      "text/plain": [
       "array([0.46253717, 0.06733674, 0.77642649, 0.73177917])"
      ]
     },
     "execution_count": 54,
     "metadata": {},
     "output_type": "execute_result"
    }
   ],
   "source": [
    "np.random.rand(4)"
   ]
  },
  {
   "cell_type": "code",
   "execution_count": 55,
   "metadata": {},
   "outputs": [],
   "source": [
    "# Generating a two-dimensional array"
   ]
  },
  {
   "cell_type": "code",
   "execution_count": 56,
   "metadata": {},
   "outputs": [
    {
     "data": {
      "text/plain": [
       "array([[0.06565772, 0.05413737, 0.03729521, 0.06140483],\n",
       "       [0.81505667, 0.75699644, 0.08936201, 0.43982339]])"
      ]
     },
     "execution_count": 56,
     "metadata": {},
     "output_type": "execute_result"
    }
   ],
   "source": [
    "np.random.rand(2,4)"
   ]
  },
  {
   "cell_type": "markdown",
   "metadata": {},
   "source": [
    "# Randn([d0, d1, ........., dn])\n",
    "\n",
    "it is used to create an array of given shape and populate it with random samples from a Standard Normal Distributions.\n",
    "\n",
    "It takes only positive arguments.\n",
    "\n",
    "it generate an array of shape (d0,d1,...dn) filled with random floats sampled from a univariate normal distributin of mean 0 and variance 1."
   ]
  },
  {
   "cell_type": "code",
   "execution_count": 57,
   "metadata": {},
   "outputs": [],
   "source": [
    "# Generating a random sample"
   ]
  },
  {
   "cell_type": "code",
   "execution_count": 59,
   "metadata": {},
   "outputs": [
    {
     "data": {
      "text/plain": [
       "0.1256447819690873"
      ]
     },
     "execution_count": 59,
     "metadata": {},
     "output_type": "execute_result"
    }
   ],
   "source": [
    "np.random.randn()"
   ]
  },
  {
   "cell_type": "code",
   "execution_count": 60,
   "metadata": {},
   "outputs": [],
   "source": [
    "# Generating a two-dimensional array over N(0, 1)"
   ]
  },
  {
   "cell_type": "code",
   "execution_count": 61,
   "metadata": {},
   "outputs": [
    {
     "data": {
      "text/plain": [
       "array([[ 1.70754934,  0.19729667,  0.25837501],\n",
       "       [-0.06589353,  0.74858993,  0.23723355]])"
      ]
     },
     "execution_count": 61,
     "metadata": {},
     "output_type": "execute_result"
    }
   ],
   "source": [
    "np.random.randn(2,3)"
   ]
  },
  {
   "cell_type": "code",
   "execution_count": 62,
   "metadata": {},
   "outputs": [],
   "source": [
    "# Generating a two-dimensional array over N(3, 2.25)"
   ]
  },
  {
   "cell_type": "code",
   "execution_count": 63,
   "metadata": {},
   "outputs": [
    {
     "data": {
      "text/plain": [
       "array([[-0.02253821,  1.19317793,  4.50062625],\n",
       "       [ 2.94954213,  3.99457488,  3.25381432]])"
      ]
     },
     "execution_count": 63,
     "metadata": {},
     "output_type": "execute_result"
    }
   ],
   "source": [
    "1.5 * np.random.randn(2, 3) + 3"
   ]
  },
  {
   "cell_type": "markdown",
   "metadata": {},
   "source": [
    "# randint(low, high=None, size=None) \n",
    "\n",
    "returns a random integerfrom a discrete uniform distribution with limits of low (inclusive)and high (exclusive). \n",
    "\n",
    "If high is None (the default), then results are from 0 to low. \n",
    "\n",
    "If the size is specified, it returns an array of the specified size.\n"
   ]
  },
  {
   "cell_type": "code",
   "execution_count": 64,
   "metadata": {},
   "outputs": [],
   "source": [
    "# Generating a random integer between 0 and 6"
   ]
  },
  {
   "cell_type": "code",
   "execution_count": 65,
   "metadata": {},
   "outputs": [
    {
     "data": {
      "text/plain": [
       "2"
      ]
     },
     "execution_count": 65,
     "metadata": {},
     "output_type": "execute_result"
    }
   ],
   "source": [
    "np.random.randint(6)"
   ]
  },
  {
   "cell_type": "code",
   "execution_count": 66,
   "metadata": {},
   "outputs": [],
   "source": [
    "# Generating a random integer between 6 and 9"
   ]
  },
  {
   "cell_type": "code",
   "execution_count": 67,
   "metadata": {},
   "outputs": [
    {
     "data": {
      "text/plain": [
       "6"
      ]
     },
     "execution_count": 67,
     "metadata": {},
     "output_type": "execute_result"
    }
   ],
   "source": [
    "np.random.randint(6,9)"
   ]
  },
  {
   "cell_type": "code",
   "execution_count": 69,
   "metadata": {},
   "outputs": [],
   "source": [
    "# Generating a one-dimensional array with values between 3 and 9"
   ]
  },
  {
   "cell_type": "code",
   "execution_count": 70,
   "metadata": {},
   "outputs": [
    {
     "data": {
      "text/plain": [
       "array([5, 8, 5, 4, 7])"
      ]
     },
     "execution_count": 70,
     "metadata": {},
     "output_type": "execute_result"
    }
   ],
   "source": [
    "np.random.randint(3, 9, size=5)"
   ]
  },
  {
   "cell_type": "code",
   "execution_count": 71,
   "metadata": {},
   "outputs": [],
   "source": [
    "# Generating a two-dimensional array with values between 3 and 9"
   ]
  },
  {
   "cell_type": "code",
   "execution_count": 72,
   "metadata": {},
   "outputs": [
    {
     "data": {
      "text/plain": [
       "array([[6, 4, 4, 4, 4],\n",
       "       [7, 3, 4, 3, 3]])"
      ]
     },
     "execution_count": 72,
     "metadata": {},
     "output_type": "execute_result"
    }
   ],
   "source": [
    "np.random.randint(3, 9, size=(2, 5))"
   ]
  },
  {
   "cell_type": "markdown",
   "metadata": {},
   "source": [
    "# random(size=None) \n",
    "returns a random float value between 0 and 1\n",
    "which is drawn from the continuous uniform distribution."
   ]
  },
  {
   "cell_type": "code",
   "execution_count": 73,
   "metadata": {},
   "outputs": [],
   "source": [
    "# Generating a random float"
   ]
  },
  {
   "cell_type": "code",
   "execution_count": 74,
   "metadata": {},
   "outputs": [
    {
     "data": {
      "text/plain": [
       "0.18403646961200215"
      ]
     },
     "execution_count": 74,
     "metadata": {},
     "output_type": "execute_result"
    }
   ],
   "source": [
    "np.random.random()"
   ]
  },
  {
   "cell_type": "code",
   "execution_count": 75,
   "metadata": {},
   "outputs": [],
   "source": [
    "# Generating a one-dimensional array"
   ]
  },
  {
   "cell_type": "code",
   "execution_count": 76,
   "metadata": {},
   "outputs": [
    {
     "data": {
      "text/plain": [
       "array([0.36949628, 0.36639434, 0.31435777])"
      ]
     },
     "execution_count": 76,
     "metadata": {},
     "output_type": "execute_result"
    }
   ],
   "source": [
    "np.random.random(3)"
   ]
  },
  {
   "cell_type": "code",
   "execution_count": 77,
   "metadata": {},
   "outputs": [],
   "source": [
    "# Generating a two-dimensional array"
   ]
  },
  {
   "cell_type": "code",
   "execution_count": 78,
   "metadata": {},
   "outputs": [
    {
     "data": {
      "text/plain": [
       "array([[0.38078854, 0.49950409],\n",
       "       [0.35252601, 0.31766313],\n",
       "       [0.49449794, 0.83923734]])"
      ]
     },
     "execution_count": 78,
     "metadata": {},
     "output_type": "execute_result"
    }
   ],
   "source": [
    "np.random.random((3, 2))"
   ]
  },
  {
   "cell_type": "markdown",
   "metadata": {},
   "source": [
    "# binomial(n, p, size=None) \n",
    "\n",
    "returns samples drawn from a binomial distribution with n trials and p probability of success \n",
    "\n",
    "where n is greater than 0 and p is in the interval of 0 and 1."
   ]
  },
  {
   "cell_type": "code",
   "execution_count": 79,
   "metadata": {},
   "outputs": [],
   "source": [
    "# Number of trials, probability of each trial"
   ]
  },
  {
   "cell_type": "code",
   "execution_count": 80,
   "metadata": {},
   "outputs": [],
   "source": [
    "n, p = 1, .5"
   ]
  },
  {
   "cell_type": "code",
   "execution_count": 81,
   "metadata": {},
   "outputs": [
    {
     "data": {
      "text/plain": [
       "1"
      ]
     },
     "execution_count": 81,
     "metadata": {},
     "output_type": "execute_result"
    }
   ],
   "source": [
    "n"
   ]
  },
  {
   "cell_type": "code",
   "execution_count": 82,
   "metadata": {},
   "outputs": [
    {
     "data": {
      "text/plain": [
       "0.5"
      ]
     },
     "execution_count": 82,
     "metadata": {},
     "output_type": "execute_result"
    }
   ],
   "source": [
    "p"
   ]
  },
  {
   "cell_type": "code",
   "execution_count": 83,
   "metadata": {},
   "outputs": [],
   "source": [
    "# Flipping a coin 1 time for 50 times"
   ]
  },
  {
   "cell_type": "code",
   "execution_count": 84,
   "metadata": {},
   "outputs": [],
   "source": [
    "samples = np.random.binomial(n, p, 50)"
   ]
  },
  {
   "cell_type": "code",
   "execution_count": 85,
   "metadata": {},
   "outputs": [
    {
     "data": {
      "text/plain": [
       "array([0, 1, 1, 1, 0, 1, 0, 0, 0, 0, 0, 1, 1, 0, 0, 0, 1, 0, 1, 1, 1, 1,\n",
       "       1, 0, 0, 1, 0, 0, 0, 1, 1, 1, 0, 0, 0, 1, 1, 0, 0, 0, 1, 1, 1, 1,\n",
       "       1, 0, 1, 1, 1, 0])"
      ]
     },
     "execution_count": 85,
     "metadata": {},
     "output_type": "execute_result"
    }
   ],
   "source": [
    "samples"
   ]
  },
  {
   "cell_type": "markdown",
   "metadata": {},
   "source": [
    "# normal(mu=0.0, sigma=1.0, size=None) \n",
    "\n",
    "draws random samples from a normal (Gaussian) distribution. \n",
    "\n",
    "If no arguments provided, a sample will be drawn from N(0, 1)."
   ]
  },
  {
   "cell_type": "code",
   "execution_count": 86,
   "metadata": {},
   "outputs": [],
   "source": [
    "# Initialize mu and sigma"
   ]
  },
  {
   "cell_type": "code",
   "execution_count": 87,
   "metadata": {},
   "outputs": [],
   "source": [
    "mu, sigma = 0, 0.1"
   ]
  },
  {
   "cell_type": "code",
   "execution_count": 88,
   "metadata": {},
   "outputs": [],
   "source": [
    "# Drawing 5 samples in a one-dimensional array"
   ]
  },
  {
   "cell_type": "code",
   "execution_count": 89,
   "metadata": {},
   "outputs": [
    {
     "data": {
      "text/plain": [
       "array([-0.00384193,  0.04872532,  0.10061345,  0.05492212, -0.07763597])"
      ]
     },
     "execution_count": 89,
     "metadata": {},
     "output_type": "execute_result"
    }
   ],
   "source": [
    "np.random.normal(mu, sigma, 5)"
   ]
  },
  {
   "cell_type": "code",
   "execution_count": 90,
   "metadata": {},
   "outputs": [],
   "source": [
    "# Drawing 10 samples in a two-dimensional array of shape(2,5)"
   ]
  },
  {
   "cell_type": "code",
   "execution_count": 92,
   "metadata": {},
   "outputs": [
    {
     "data": {
      "text/plain": [
       "array([[ 0.09471777,  0.02023277,  0.15786408, -0.13918716,  0.00147994],\n",
       "       [ 0.00085172, -0.03596726,  0.02118338,  0.10932999,  0.11555939]])"
      ]
     },
     "execution_count": 92,
     "metadata": {},
     "output_type": "execute_result"
    }
   ],
   "source": [
    "np.random.normal(mu,sigma , (2,5))"
   ]
  },
  {
   "cell_type": "markdown",
   "metadata": {},
   "source": [
    "# uniform(low=0.0, high=1.0, size=None) \n",
    "\n",
    "draws samples from a uniform distribution over the interval 0 (including) and 1 (excluding),\n",
    "\n",
    "if no arguments are provided.\n",
    "\n",
    "In other words, any value drawn is equally likely within the interval.\n"
   ]
  },
  {
   "cell_type": "code",
   "execution_count": 93,
   "metadata": {},
   "outputs": [],
   "source": [
    "# Creating a one-dimensional array with samples drawn within [-1, 0)"
   ]
  },
  {
   "cell_type": "code",
   "execution_count": 94,
   "metadata": {},
   "outputs": [
    {
     "data": {
      "text/plain": [
       "array([-0.69166518, -0.78420305, -0.63541296, -0.9039508 , -0.81429181,\n",
       "       -0.25460778, -0.165036  , -0.6871107 , -0.92253596, -0.60844986])"
      ]
     },
     "execution_count": 94,
     "metadata": {},
     "output_type": "execute_result"
    }
   ],
   "source": [
    "np.random.uniform(-1, 0, 10)"
   ]
  },
  {
   "cell_type": "code",
   "execution_count": 95,
   "metadata": {},
   "outputs": [],
   "source": [
    "# Creating a two-dimensional array with samples drawn within [0, 1)"
   ]
  },
  {
   "cell_type": "code",
   "execution_count": 96,
   "metadata": {},
   "outputs": [
    {
     "data": {
      "text/plain": [
       "array([[0.42433967, 0.39141409],\n",
       "       [0.08626282, 0.17937663],\n",
       "       [0.92818758, 0.68660598],\n",
       "       [0.28790994, 0.75448588],\n",
       "       [0.75872427, 0.3972708 ]])"
      ]
     },
     "execution_count": 96,
     "metadata": {},
     "output_type": "execute_result"
    }
   ],
   "source": [
    "np.random.uniform(size=(5, 2))"
   ]
  },
  {
   "cell_type": "markdown",
   "metadata": {},
   "source": [
    "# Array Attributes and Methods"
   ]
  },
  {
   "cell_type": "markdown",
   "metadata": {},
   "source": [
    "# ndim attribute\n",
    "\n",
    "displays the number of dimensions of an array. \n",
    "\n",
    "Using this attribute on n_call_vol and pcr, we expect dimensions to be 1 and 2 respectively. "
   ]
  },
  {
   "cell_type": "code",
   "execution_count": 98,
   "metadata": {},
   "outputs": [],
   "source": [
    "# Checking dimensions for n_call_vol array"
   ]
  },
  {
   "cell_type": "code",
   "execution_count": 100,
   "metadata": {},
   "outputs": [
    {
     "data": {
      "text/plain": [
       "1"
      ]
     },
     "execution_count": 100,
     "metadata": {},
     "output_type": "execute_result"
    }
   ],
   "source": [
    "n_call_vol.ndim"
   ]
  },
  {
   "cell_type": "code",
   "execution_count": 101,
   "metadata": {},
   "outputs": [
    {
     "data": {
      "text/plain": [
       "2"
      ]
     },
     "execution_count": 101,
     "metadata": {},
     "output_type": "execute_result"
    }
   ],
   "source": [
    "n_2d.ndim"
   ]
  },
  {
   "cell_type": "markdown",
   "metadata": {},
   "source": [
    "# shape- \n",
    "\n",
    "returns a tuple with the dimensions of the array. \n",
    "\n",
    "It may also be used to reshape the array in-place by assigning a tuple of array dimensions to it."
   ]
  },
  {
   "cell_type": "code",
   "execution_count": 102,
   "metadata": {},
   "outputs": [],
   "source": [
    "# Checking the shape of the one-dimensional array"
   ]
  },
  {
   "cell_type": "code",
   "execution_count": 103,
   "metadata": {},
   "outputs": [
    {
     "data": {
      "text/plain": [
       "(5,)"
      ]
     },
     "execution_count": 103,
     "metadata": {},
     "output_type": "execute_result"
    }
   ],
   "source": [
    "n_put_vol.shape"
   ]
  },
  {
   "cell_type": "code",
   "execution_count": 104,
   "metadata": {},
   "outputs": [],
   "source": [
    "# Checking shape of the two-dimensional array"
   ]
  },
  {
   "cell_type": "code",
   "execution_count": 106,
   "metadata": {},
   "outputs": [
    {
     "data": {
      "text/plain": [
       "(2, 5)"
      ]
     },
     "execution_count": 106,
     "metadata": {},
     "output_type": "execute_result"
    }
   ],
   "source": [
    "n_2d.shape #It shows 2 rows and 5 columns"
   ]
  },
  {
   "cell_type": "code",
   "execution_count": 107,
   "metadata": {},
   "outputs": [],
   "source": [
    "# Printing n_2d with 2 rows and 5 columns"
   ]
  },
  {
   "cell_type": "code",
   "execution_count": 108,
   "metadata": {},
   "outputs": [
    {
     "data": {
      "text/plain": [
       "array([[52.89, 45.14, 63.84, 77.1 , 74.6 ],\n",
       "       [49.51, 50.45, 59.11, 80.49, 65.11]])"
      ]
     },
     "execution_count": 108,
     "metadata": {},
     "output_type": "execute_result"
    }
   ],
   "source": [
    "n_2d"
   ]
  },
  {
   "cell_type": "code",
   "execution_count": 109,
   "metadata": {},
   "outputs": [],
   "source": [
    "# Reshaping n_2d using the shape attribute"
   ]
  },
  {
   "cell_type": "code",
   "execution_count": 110,
   "metadata": {},
   "outputs": [],
   "source": [
    "n_2d.shape = (5, 2)"
   ]
  },
  {
   "cell_type": "code",
   "execution_count": 111,
   "metadata": {},
   "outputs": [],
   "source": [
    "# Printing reshaped array\n"
   ]
  },
  {
   "cell_type": "code",
   "execution_count": 112,
   "metadata": {},
   "outputs": [
    {
     "data": {
      "text/plain": [
       "array([[52.89, 45.14],\n",
       "       [63.84, 77.1 ],\n",
       "       [74.6 , 49.51],\n",
       "       [50.45, 59.11],\n",
       "       [80.49, 65.11]])"
      ]
     },
     "execution_count": 112,
     "metadata": {},
     "output_type": "execute_result"
    }
   ],
   "source": [
    "n_2d"
   ]
  },
  {
   "cell_type": "markdown",
   "metadata": {},
   "source": [
    "# size -\n",
    "\n",
    "returns the number of elements in the array."
   ]
  },
  {
   "cell_type": "code",
   "execution_count": 113,
   "metadata": {},
   "outputs": [
    {
     "data": {
      "text/plain": [
       "5"
      ]
     },
     "execution_count": 113,
     "metadata": {},
     "output_type": "execute_result"
    }
   ],
   "source": [
    "n_call_vol.size"
   ]
  },
  {
   "cell_type": "code",
   "execution_count": 114,
   "metadata": {},
   "outputs": [
    {
     "data": {
      "text/plain": [
       "10"
      ]
     },
     "execution_count": 114,
     "metadata": {},
     "output_type": "execute_result"
    }
   ],
   "source": [
    "n_2d.size"
   ]
  },
  {
   "cell_type": "markdown",
   "metadata": {},
   "source": [
    "# dtype - \n",
    "\n",
    "returns the data-type of the array’s elements. \n",
    "\n",
    "NumPy comes with its own data type just like regular built-in data types such as int, float, str, etc."
   ]
  },
  {
   "cell_type": "code",
   "execution_count": 115,
   "metadata": {},
   "outputs": [
    {
     "data": {
      "text/plain": [
       "dtype('float64')"
      ]
     },
     "execution_count": 115,
     "metadata": {},
     "output_type": "execute_result"
    }
   ],
   "source": [
    "n_put_vol.dtype"
   ]
  },
  {
   "cell_type": "code",
   "execution_count": 116,
   "metadata": {},
   "outputs": [],
   "source": [
    "# Creating a one-dimensional array with 1000 samples drawn from a normal distribution"
   ]
  },
  {
   "cell_type": "code",
   "execution_count": 117,
   "metadata": {},
   "outputs": [],
   "source": [
    "samples = np.random.normal(5, 1.5, 1000)"
   ]
  },
  {
   "cell_type": "code",
   "execution_count": 118,
   "metadata": {},
   "outputs": [
    {
     "data": {
      "text/plain": [
       "array([5.93981557, 6.62266485, 4.9714569 , 2.39913983, 6.46169518,\n",
       "       4.11719498, 5.65139704, 3.74162038, 7.19281355, 3.02953253,\n",
       "       4.6696602 , 5.32780457, 5.2531047 , 6.54464079, 3.43007919,\n",
       "       4.70523036, 5.6436826 , 5.0318642 , 3.83477327, 3.03206062,\n",
       "       4.63434465, 7.22523607, 5.85539768, 5.19341311, 5.32246107,\n",
       "       7.09583785, 3.69241887, 5.52368491, 5.65965566, 6.74814692,\n",
       "       4.77710839, 4.54246049, 5.14500841, 6.1185663 , 6.83076297,\n",
       "       5.04228316, 3.57280823, 6.59860081, 5.84874369, 5.32185439,\n",
       "       2.30184827, 2.59913331, 3.21150671, 2.76181495, 4.24833801,\n",
       "       5.3538549 , 4.93015483, 5.11237527, 2.35064507, 3.6963147 ,\n",
       "       4.39206795, 5.90273168, 4.48285962, 4.10449263, 5.17951033,\n",
       "       4.26402373, 2.68324972, 5.2533202 , 5.86742924, 4.20181632,\n",
       "       3.87361673, 4.52061225, 6.50430308, 4.88508113, 3.13335312,\n",
       "       3.60092879, 5.04390133, 3.82871314, 7.31726056, 5.69196119,\n",
       "       2.80524626, 3.152751  , 4.82430524, 4.74735606, 5.69798305,\n",
       "       3.54000056, 3.79518189, 6.08221055, 2.5737329 , 4.15364689,\n",
       "       4.32613338, 5.63769786, 3.99853776, 6.14150532, 3.25495957,\n",
       "       5.26995108, 1.830689  , 4.29414225, 3.45698542, 6.56034756,\n",
       "       3.94277308, 2.78266518, 5.6341272 , 2.81254432, 3.93602844,\n",
       "       7.69832997, 2.53075516, 6.24784338, 5.2558388 , 5.11556422,\n",
       "       7.03586203, 4.56970546, 3.00595554, 5.04951141, 6.08943463,\n",
       "       5.42306699, 6.44683988, 4.62938481, 5.6607996 , 6.28547079,\n",
       "       6.45369182, 4.4099071 , 2.55853008, 4.5966629 , 4.63776013,\n",
       "       4.58576022, 3.87155306, 3.3702199 , 3.79459942, 3.26957605,\n",
       "       4.01968871, 3.20432089, 4.32506747, 5.56359102, 5.92508293,\n",
       "       5.13052467, 4.81845452, 2.32805727, 3.96185344, 6.29660592,\n",
       "       5.3790934 , 5.86070755, 4.62122138, 5.87878189, 3.92198882,\n",
       "       2.31482632, 7.48657329, 4.6271107 , 5.72762062, 4.51939905,\n",
       "       5.17581937, 4.26970581, 3.71606071, 3.73104813, 6.234178  ,\n",
       "       3.7013792 , 5.86093878, 3.48036273, 3.30116945, 5.24809716,\n",
       "       5.96022704, 4.5944305 , 4.29620722, 3.97866795, 5.08094556,\n",
       "       4.60846059, 7.26202486, 6.0801504 , 4.8479547 , 2.38879189,\n",
       "       6.39683545, 6.97789207, 5.89729008, 3.82728818, 3.84280476,\n",
       "       3.55499643, 4.25991573, 5.46201043, 6.7066481 , 5.93804061,\n",
       "       5.43626462, 6.24334495, 3.32895093, 3.81780744, 3.70952301,\n",
       "       6.34755535, 6.04062895, 6.52835356, 4.26109115, 5.79054775,\n",
       "       3.76960878, 5.52758228, 4.34682054, 5.03756265, 7.06255053,\n",
       "       2.3530635 , 6.66597211, 3.70973575, 3.36201287, 3.41842506,\n",
       "       5.23636192, 4.41306021, 6.87944488, 6.15941715, 4.3569761 ,\n",
       "       8.04741356, 2.76855403, 5.10943453, 6.92574996, 6.93496434,\n",
       "       1.7436204 , 5.84599017, 4.94726274, 2.99361551, 5.75399048,\n",
       "       4.31536993, 3.11568382, 4.69591814, 4.12660619, 6.80683823,\n",
       "       7.73270671, 4.92686872, 2.8363186 , 5.06672029, 3.89588313,\n",
       "       3.82055232, 2.88398975, 6.00201773, 2.85505976, 1.96508224,\n",
       "       4.36470644, 5.17062871, 6.26312154, 7.43404243, 6.75436187,\n",
       "       5.19783538, 8.00560497, 4.88377483, 5.67066894, 6.60631647,\n",
       "       5.62927782, 5.54396973, 3.44016856, 8.42152604, 4.25081795,\n",
       "       7.6725823 , 3.56030227, 4.70943673, 4.2590236 , 5.28370308,\n",
       "       5.7006076 , 4.62911833, 5.33278096, 3.67450852, 5.33367493,\n",
       "       3.48447287, 6.03888014, 3.2214467 , 2.82241954, 5.62342811,\n",
       "       7.01377513, 5.59055762, 6.45081541, 4.07987355, 5.99672579,\n",
       "       5.16243992, 4.76635371, 5.62942188, 4.12542305, 2.34440448,\n",
       "       5.29730241, 5.68199256, 4.32302378, 7.69438248, 3.89549472,\n",
       "       4.67910832, 6.22787923, 8.52808268, 4.90056662, 5.94225218,\n",
       "       3.45670665, 6.29049823, 2.76074656, 3.19792581, 6.18485799,\n",
       "       5.35920644, 4.07251879, 2.94692119, 5.83055601, 6.88690327,\n",
       "       4.79950762, 5.47958223, 4.47207362, 3.64184725, 4.22384051,\n",
       "       3.37750584, 4.15384168, 5.47522627, 5.10068786, 4.16847142,\n",
       "       8.6453798 , 3.4982314 , 4.19559131, 5.47741121, 4.94737439,\n",
       "       3.91674884, 6.97593437, 4.47047568, 6.7355693 , 8.14657032,\n",
       "       6.2840843 , 2.56661047, 4.33875342, 6.68339614, 7.06055291,\n",
       "       5.23850177, 4.86382796, 5.69536028, 2.70474702, 5.80315626,\n",
       "       4.2580609 , 3.42541559, 5.28531303, 4.18416396, 3.64239015,\n",
       "       5.20347535, 5.9937766 , 1.93131817, 4.9543633 , 4.80954778,\n",
       "       4.36980064, 4.11547891, 6.22399532, 5.35809967, 5.8994969 ,\n",
       "       5.04634537, 6.70723261, 4.79533155, 4.29771233, 3.54037255,\n",
       "       4.08109204, 4.21917777, 2.25323969, 6.31213864, 4.57443401,\n",
       "       6.73764023, 5.02930826, 6.07482656, 3.69086913, 5.43330557,\n",
       "       3.33806676, 3.36618847, 4.89865929, 5.20309738, 3.8312305 ,\n",
       "       6.83450758, 4.80016632, 3.65523147, 6.73476911, 4.21222395,\n",
       "       4.37736573, 4.94706854, 4.71975254, 4.02038652, 5.24782565,\n",
       "       4.12594644, 3.74058211, 4.03025446, 4.76744661, 2.98243325,\n",
       "       4.64176516, 1.98186536, 6.91846467, 5.51382818, 4.78268285,\n",
       "       5.53106811, 5.42037303, 3.13009554, 2.65521003, 5.52479988,\n",
       "       4.51328257, 7.61326726, 5.50671242, 6.33832554, 6.14768719,\n",
       "       8.30226759, 4.61370989, 3.51348002, 6.60388099, 5.67866319,\n",
       "       5.70014962, 8.09150964, 4.59880873, 3.96907271, 3.13886676,\n",
       "       4.22027239, 3.86408966, 4.92563449, 6.3303509 , 3.81896949,\n",
       "       4.66959807, 4.89423171, 5.36341228, 6.29059652, 3.98119169,\n",
       "       5.68178327, 5.48959586, 4.49400175, 5.05363158, 3.65159329,\n",
       "       5.32603264, 5.44978021, 3.73428996, 6.49956469, 1.34508168,\n",
       "       5.21208786, 2.76188655, 5.89426344, 5.14447888, 7.76453863,\n",
       "       3.75431321, 2.28068622, 4.94962985, 5.68506426, 8.53798005,\n",
       "       6.05775816, 6.33315177, 3.07921886, 3.10861584, 5.15739042,\n",
       "       2.66124217, 3.86083178, 5.38354478, 4.41396765, 5.42336968,\n",
       "       6.09690608, 6.55069838, 4.60337089, 5.26009469, 4.4161194 ,\n",
       "       5.27083149, 2.9285558 , 3.73718512, 4.227907  , 5.17463611,\n",
       "       7.53966484, 3.7693633 , 1.51249863, 4.72712409, 5.3388773 ,\n",
       "       3.64896666, 5.26084417, 4.35893701, 3.25915989, 7.06974866,\n",
       "       5.05047504, 5.30356811, 2.96702627, 5.09090224, 7.93241451,\n",
       "       5.53542925, 7.22847258, 3.63707373, 3.46810132, 4.83575651,\n",
       "       6.64554942, 5.3625615 , 5.34548157, 3.09371713, 5.7643419 ,\n",
       "       6.09036569, 6.3182146 , 8.99819362, 6.25751804, 5.69634768,\n",
       "       4.68036683, 7.01742505, 3.37791694, 6.33118255, 4.15267182,\n",
       "       3.27199488, 7.64113895, 5.58253606, 6.6271575 , 4.75325099,\n",
       "       4.19089142, 3.36162558, 4.85644383, 4.73749706, 4.83081866,\n",
       "       5.09547946, 7.0010269 , 4.34320376, 4.57161228, 3.57959928,\n",
       "       2.17103432, 5.46022398, 4.73516987, 6.4626137 , 5.87079019,\n",
       "       6.38161558, 4.41976616, 6.85825326, 3.64249396, 5.77166436,\n",
       "       2.92483155, 5.55266107, 7.15124082, 5.23059686, 5.44957346,\n",
       "       3.37195602, 5.58842782, 5.69884511, 5.3746802 , 5.60116526,\n",
       "       5.76592026, 5.73808152, 4.20296936, 5.55963887, 2.34549505,\n",
       "       3.55228299, 3.38883878, 4.32825659, 6.35133813, 3.74664243,\n",
       "       2.10713717, 4.58074439, 6.72804476, 4.23794328, 3.29988784,\n",
       "       4.66432844, 6.23937271, 3.73423819, 7.30915965, 5.98941611,\n",
       "       4.43301464, 4.49142764, 5.91400278, 3.4888425 , 2.58581191,\n",
       "       4.121848  , 4.56263845, 6.16355244, 3.94900302, 3.2868171 ,\n",
       "       4.5851401 , 5.41147829, 6.15877754, 5.10990795, 4.44808004,\n",
       "       4.54600775, 6.67244489, 3.56086353, 3.5406405 , 6.94741934,\n",
       "       2.65158878, 4.25171028, 7.04060407, 6.46931577, 3.32681276,\n",
       "       6.96121381, 3.58117564, 8.48439785, 7.97326306, 4.56360454,\n",
       "       5.77791754, 5.01831884, 4.40072283, 6.72595239, 6.52636497,\n",
       "       2.82918172, 5.30856426, 3.3011722 , 5.45880097, 4.57222501,\n",
       "       4.83613926, 4.12491253, 5.23694016, 3.64071278, 9.39495414,\n",
       "       5.38797539, 4.8757612 , 6.59462185, 5.09140211, 6.48761859,\n",
       "       5.75390945, 4.39040986, 6.17272963, 4.16246796, 8.56249358,\n",
       "       3.91451716, 7.26667178, 4.89134852, 5.45048178, 6.31401669,\n",
       "       4.26568239, 3.17064648, 3.63679912, 5.24877098, 4.83052914,\n",
       "       4.67989502, 6.32086424, 4.28932415, 6.85477218, 5.24854728,\n",
       "       6.0203906 , 5.42795947, 1.86219325, 6.03613212, 3.11196018,\n",
       "       2.68871181, 6.76825631, 3.97852242, 4.0896952 , 5.69283246,\n",
       "       6.47670452, 4.46645296, 4.68937107, 4.28084916, 6.132163  ,\n",
       "       5.27811191, 3.3183525 , 7.45814206, 3.80682335, 7.30442198,\n",
       "       3.86633327, 2.92362971, 5.48204186, 3.70231609, 3.20995238,\n",
       "       3.57694427, 6.76157294, 3.37480796, 3.99279715, 4.08406131,\n",
       "       3.0424674 , 5.45555691, 4.92536353, 6.78602784, 6.38207693,\n",
       "       2.63652681, 5.55573654, 4.69656407, 3.94742299, 4.72581493,\n",
       "       5.05644814, 4.53932957, 3.2178247 , 2.7418211 , 2.04246928,\n",
       "       3.88003256, 6.21633088, 7.40761815, 2.85456957, 4.90322062,\n",
       "       6.46943322, 3.68456992, 3.06518817, 8.22975131, 5.88779373,\n",
       "       5.29869834, 5.16600922, 4.01096343, 6.90932127, 6.53306666,\n",
       "       3.89913929, 4.9172712 , 4.40703286, 4.89614283, 6.23178701,\n",
       "       4.75702779, 4.3979244 , 3.99464075, 7.63067083, 6.36106225,\n",
       "       4.39782902, 6.0985162 , 3.78437318, 2.93082645, 4.71164896,\n",
       "       7.18139826, 3.1953509 , 3.01450163, 6.15219282, 3.69178222,\n",
       "       6.15252267, 6.03868597, 0.64331597, 6.20710484, 5.24692599,\n",
       "       8.0371695 , 2.01230029, 6.4251513 , 4.02521232, 3.93617814,\n",
       "       4.03110674, 4.82358925, 2.67682562, 7.32950979, 5.09296225,\n",
       "       5.41361614, 5.80444925, 5.98782162, 3.56838175, 4.95000752,\n",
       "       6.41641251, 4.79691252, 7.27143447, 6.025427  , 4.18339063,\n",
       "       2.79331542, 2.63061475, 6.02418713, 4.75083009, 5.22682664,\n",
       "       3.47800575, 5.59904627, 7.07569198, 6.11018835, 3.52358121,\n",
       "       8.09603098, 5.01955234, 2.23010978, 7.66683262, 0.24288206,\n",
       "       7.87297172, 6.40817848, 6.55545625, 4.00388146, 3.03799118,\n",
       "       7.07986626, 1.85147151, 5.6558515 , 5.02695929, 5.7865288 ,\n",
       "       5.67901512, 5.26176094, 2.54619438, 4.05759272, 4.99274722,\n",
       "       5.57424637, 3.40134724, 6.15984886, 5.31554166, 4.79350677,\n",
       "       6.44301969, 4.0319165 , 5.56514128, 5.08132907, 4.07730733,\n",
       "       5.22114841, 6.16697559, 4.26928835, 1.98281066, 5.76604455,\n",
       "       4.81874078, 5.67486529, 5.82390374, 4.49042278, 3.89580723,\n",
       "       7.50627209, 4.95492407, 4.67527547, 1.55678228, 7.87408413,\n",
       "       2.37408635, 3.44041029, 3.4311126 , 5.41654849, 6.37181536,\n",
       "       3.63419764, 8.46384274, 5.21349639, 4.71104255, 6.38857043,\n",
       "       6.14522105, 6.51892715, 5.33429344, 6.8433428 , 6.23788941,\n",
       "       3.07717752, 6.63649972, 3.39792951, 6.86848356, 5.96964898,\n",
       "       4.1313297 , 3.22913451, 5.68388415, 5.79241042, 5.36486308,\n",
       "       5.04939644, 6.08248423, 6.79677629, 6.1939662 , 5.31094861,\n",
       "       4.24534071, 2.10352401, 2.59916265, 4.42719533, 6.7277548 ,\n",
       "       3.95170522, 4.8522347 , 4.83698756, 3.7558573 , 5.03429054,\n",
       "       9.42856752, 6.12530557, 4.54445468, 5.7957394 , 5.72001437,\n",
       "       3.52172019, 4.16924391, 6.67080604, 3.08370328, 3.68090287,\n",
       "       4.81250187, 6.66312447, 6.032311  , 6.34474323, 3.33989002,\n",
       "       6.38853183, 3.90471284, 3.2530924 , 6.1108841 , 5.7451116 ,\n",
       "       2.98549335, 6.84649022, 5.07772119, 6.42647813, 5.31693428,\n",
       "       4.53090367, 6.48778087, 5.54510574, 4.66208383, 4.21423059,\n",
       "       2.41961917, 7.81155808, 3.70692098, 5.87995185, 5.6559533 ,\n",
       "       4.34346552, 5.02362809, 5.0845124 , 6.76457672, 6.94787527,\n",
       "       8.86589338, 5.27978812, 2.40134422, 4.95607823, 3.50348767,\n",
       "       4.17454839, 1.80168595, 7.59325459, 4.04258152, 4.9959946 ,\n",
       "       3.03084461, 6.28317987, 4.94717725, 6.51483951, 7.83663893,\n",
       "       5.31416371, 3.24768021, 6.31279105, 4.73989022, 4.69451377,\n",
       "       4.07920876, 2.30451643, 4.54878283, 4.25462335, 8.08777713,\n",
       "       7.49741348, 6.9199411 , 6.96816101, 6.24465337, 2.33029925,\n",
       "       3.33800627, 4.19522283, 1.62177655, 4.19895767, 2.97358765,\n",
       "       4.33248747, 6.35414521, 5.01270804, 4.53549842, 6.00951385,\n",
       "       5.88554663, 4.21497361, 7.05467349, 4.49045988, 5.16942165,\n",
       "       4.904255  , 5.82900092, 6.89884767, 6.84887929, 5.07127403,\n",
       "       5.3762685 , 3.54321269, 6.19325296, 3.03730251, 4.62067427,\n",
       "       6.5317744 , 6.85669692, 3.37609425, 5.79281964, 4.38328604,\n",
       "       2.4302    , 6.27098583, 3.42135183, 4.25983949, 4.46530354,\n",
       "       4.69385945, 7.51404084, 4.28130636, 7.91501619, 8.53636388,\n",
       "       6.63935652, 5.60244764, 3.57069984, 4.02459024, 5.98867419,\n",
       "       5.99219509, 4.94577454, 2.74388985, 6.11213234, 4.85978843,\n",
       "       4.51297692, 5.40232341, 2.62223979, 5.40927781, 4.60454645,\n",
       "       4.20125637, 4.25690817, 6.23830486, 4.44550921, 3.89854629,\n",
       "       1.97464356, 6.96875926, 6.31274547, 3.69072254, 4.96215183,\n",
       "       5.28732889, 5.21556408, 5.39897919, 5.51250683, 3.9511433 ,\n",
       "       5.16275137, 6.52071846, 6.16827244, 5.76539731, 7.1930366 ,\n",
       "       5.45644855, 2.46301281, 7.0595668 , 5.55195033, 1.184307  ,\n",
       "       8.396848  , 6.97279452, 4.75556033, 5.9392569 , 4.55354109,\n",
       "       3.45570614, 6.82646648, 4.35282543, 6.11565934, 4.65923153,\n",
       "       4.98715072, 1.08871746, 2.83994428, 5.44700167, 6.45641784,\n",
       "       3.73816281, 4.43735215, 6.28113489, 5.79003892, 6.42935807,\n",
       "       5.99619308, 3.83536295, 1.81162197, 5.0126408 , 4.32634301,\n",
       "       3.97188211, 4.74974681, 9.04527242, 5.85819157, 7.11411063,\n",
       "       4.9804362 , 5.43539612, 7.44867144, 4.12638623, 3.9415072 ,\n",
       "       4.13583548, 7.39266697, 4.89493621, 3.89622004, 4.8761904 ,\n",
       "       2.61260389, 6.24955261, 4.72356185, 5.72795366, 2.19891172,\n",
       "       4.78542291, 5.37676898, 5.02636683, 4.92259238, 6.81783224,\n",
       "       3.86421427, 4.69291968, 6.52854574, 6.97360088, 7.34547669])"
      ]
     },
     "execution_count": 118,
     "metadata": {},
     "output_type": "execute_result"
    }
   ],
   "source": [
    "samples"
   ]
  },
  {
   "cell_type": "code",
   "execution_count": 120,
   "metadata": {},
   "outputs": [],
   "source": [
    "# Creating a two-dimensional array with 25 samples drawn from a normal distribution"
   ]
  },
  {
   "cell_type": "code",
   "execution_count": 121,
   "metadata": {},
   "outputs": [],
   "source": [
    "samples_2d = np.random.normal(5, 1.5, size=(5, 5))"
   ]
  },
  {
   "cell_type": "code",
   "execution_count": 122,
   "metadata": {},
   "outputs": [
    {
     "data": {
      "text/plain": [
       "array([[3.72976422, 5.0313259 , 3.56590859, 4.15442596, 5.82378816],\n",
       "       [5.25057295, 5.76852545, 0.93164827, 6.91798959, 6.61197358],\n",
       "       [5.81695803, 2.8479014 , 3.01669612, 5.079474  , 4.36180945],\n",
       "       [4.52613336, 5.30363246, 6.15363666, 4.27597284, 9.47040976],\n",
       "       [4.76120558, 3.26829582, 4.02473314, 5.91296293, 3.97225747]])"
      ]
     },
     "execution_count": 122,
     "metadata": {},
     "output_type": "execute_result"
    }
   ],
   "source": [
    "samples_2d"
   ]
  },
  {
   "cell_type": "markdown",
   "metadata": {},
   "source": [
    "# mean(a, axis=None) - \n",
    "\n",
    "returns the average of the array elements. \n",
    "\n",
    "The average is computed over the flattened array by default, otherwise over the specified axis."
   ]
  },
  {
   "cell_type": "markdown",
   "metadata": {},
   "source": [
    "# average(a, axis=None) -\n",
    "\n",
    "returns the average of the array elements and works similar to that of mean()."
   ]
  },
  {
   "cell_type": "code",
   "execution_count": 123,
   "metadata": {},
   "outputs": [],
   "source": [
    "# Computing mean"
   ]
  },
  {
   "cell_type": "code",
   "execution_count": 124,
   "metadata": {},
   "outputs": [
    {
     "data": {
      "text/plain": [
       "4.969254525309065"
      ]
     },
     "execution_count": 124,
     "metadata": {},
     "output_type": "execute_result"
    }
   ],
   "source": [
    "np.mean(samples)"
   ]
  },
  {
   "cell_type": "code",
   "execution_count": 125,
   "metadata": {},
   "outputs": [
    {
     "data": {
      "text/plain": [
       "4.969254525309065"
      ]
     },
     "execution_count": 125,
     "metadata": {},
     "output_type": "execute_result"
    }
   ],
   "source": [
    "np.average(samples)"
   ]
  },
  {
   "cell_type": "code",
   "execution_count": 126,
   "metadata": {},
   "outputs": [],
   "source": [
    "# Computing mean with axis=1 (over each row)"
   ]
  },
  {
   "cell_type": "code",
   "execution_count": 127,
   "metadata": {},
   "outputs": [
    {
     "data": {
      "text/plain": [
       "array([4.46104257, 5.09614197, 4.2245678 , 5.94595702, 4.38789099])"
      ]
     },
     "execution_count": 127,
     "metadata": {},
     "output_type": "execute_result"
    }
   ],
   "source": [
    "np.mean(samples_2d, axis=1)"
   ]
  },
  {
   "cell_type": "code",
   "execution_count": 128,
   "metadata": {},
   "outputs": [
    {
     "data": {
      "text/plain": [
       "array([4.46104257, 5.09614197, 4.2245678 , 5.94595702, 4.38789099])"
      ]
     },
     "execution_count": 128,
     "metadata": {},
     "output_type": "execute_result"
    }
   ],
   "source": [
    "np.average(samples_2d, axis=1)"
   ]
  },
  {
   "cell_type": "markdown",
   "metadata": {},
   "source": [
    "# max(a, axis=None)-\n",
    "\n",
    "returns the maximum of an array or maximum along an axis."
   ]
  },
  {
   "cell_type": "code",
   "execution_count": 129,
   "metadata": {},
   "outputs": [
    {
     "data": {
      "text/plain": [
       "9.428567518137106"
      ]
     },
     "execution_count": 129,
     "metadata": {},
     "output_type": "execute_result"
    }
   ],
   "source": [
    "np.max(samples)"
   ]
  },
  {
   "cell_type": "code",
   "execution_count": 130,
   "metadata": {},
   "outputs": [
    {
     "data": {
      "text/plain": [
       "array([5.82378816, 6.91798959, 5.81695803, 9.47040976, 5.91296293])"
      ]
     },
     "execution_count": 130,
     "metadata": {},
     "output_type": "execute_result"
    }
   ],
   "source": [
    "np.max(samples_2d, axis=1)"
   ]
  },
  {
   "cell_type": "markdown",
   "metadata": {},
   "source": [
    "# median(a, axis=None)-\n",
    "\n",
    "returns the median along the specified axis."
   ]
  },
  {
   "cell_type": "code",
   "execution_count": 131,
   "metadata": {},
   "outputs": [
    {
     "data": {
      "text/plain": [
       "4.949818682382427"
      ]
     },
     "execution_count": 131,
     "metadata": {},
     "output_type": "execute_result"
    }
   ],
   "source": [
    "np.median(samples)"
   ]
  },
  {
   "cell_type": "code",
   "execution_count": 132,
   "metadata": {},
   "outputs": [
    {
     "data": {
      "text/plain": [
       "4.761205577591258"
      ]
     },
     "execution_count": 132,
     "metadata": {},
     "output_type": "execute_result"
    }
   ],
   "source": [
    "np.median(samples_2d)"
   ]
  },
  {
   "cell_type": "markdown",
   "metadata": {},
   "source": [
    "# min(a, axis=None) -\n",
    "\n",
    "returns the minimum of an array or minimum along an axis."
   ]
  },
  {
   "cell_type": "code",
   "execution_count": 133,
   "metadata": {},
   "outputs": [
    {
     "data": {
      "text/plain": [
       "0.2428820649769028"
      ]
     },
     "execution_count": 133,
     "metadata": {},
     "output_type": "execute_result"
    }
   ],
   "source": [
    "np.min(samples)"
   ]
  },
  {
   "cell_type": "code",
   "execution_count": 134,
   "metadata": {},
   "outputs": [
    {
     "data": {
      "text/plain": [
       "array([3.56590859, 0.93164827, 2.8479014 , 4.27597284, 3.26829582])"
      ]
     },
     "execution_count": 134,
     "metadata": {},
     "output_type": "execute_result"
    }
   ],
   "source": [
    "np.min(samples_2d, axis=1)"
   ]
  },
  {
   "cell_type": "markdown",
   "metadata": {},
   "source": [
    "# var(a, axis=None) -\n",
    "\n",
    "returns the variance of an array or along the specified axis."
   ]
  },
  {
   "cell_type": "code",
   "execution_count": 135,
   "metadata": {},
   "outputs": [
    {
     "data": {
      "text/plain": [
       "2.1544427450774575"
      ]
     },
     "execution_count": 135,
     "metadata": {},
     "output_type": "execute_result"
    }
   ],
   "source": [
    "np.var(samples)"
   ]
  },
  {
   "cell_type": "code",
   "execution_count": 136,
   "metadata": {},
   "outputs": [
    {
     "data": {
      "text/plain": [
       "2.61855093756904"
      ]
     },
     "execution_count": 136,
     "metadata": {},
     "output_type": "execute_result"
    }
   ],
   "source": [
    "np.var(samples_2d)"
   ]
  },
  {
   "cell_type": "code",
   "execution_count": 137,
   "metadata": {},
   "outputs": [],
   "source": [
    "# The variance is computed over each column of numbers"
   ]
  },
  {
   "cell_type": "code",
   "execution_count": 138,
   "metadata": {},
   "outputs": [
    {
     "data": {
      "text/plain": [
       "array([0.49153992, 1.35361967, 2.82881378, 1.07962995, 3.84663427])"
      ]
     },
     "execution_count": 138,
     "metadata": {},
     "output_type": "execute_result"
    }
   ],
   "source": [
    "np.var(samples_2d, axis=0)"
   ]
  },
  {
   "cell_type": "markdown",
   "metadata": {},
   "source": [
    "# std(a, axis=None) -\n",
    "\n",
    "returns the standard deviation of an array or along the specified axis."
   ]
  },
  {
   "cell_type": "code",
   "execution_count": 139,
   "metadata": {},
   "outputs": [
    {
     "data": {
      "text/plain": [
       "1.4678020115388375"
      ]
     },
     "execution_count": 139,
     "metadata": {},
     "output_type": "execute_result"
    }
   ],
   "source": [
    "np.std(samples)"
   ]
  },
  {
   "cell_type": "code",
   "execution_count": 140,
   "metadata": {},
   "outputs": [
    {
     "data": {
      "text/plain": [
       "1.4678020115388375"
      ]
     },
     "execution_count": 140,
     "metadata": {},
     "output_type": "execute_result"
    }
   ],
   "source": [
    "np.std(samples)"
   ]
  },
  {
   "cell_type": "markdown",
   "metadata": {},
   "source": [
    "# sum(a, axis=None) -\n",
    "\n",
    "returns the sum of array elements."
   ]
  },
  {
   "cell_type": "code",
   "execution_count": 141,
   "metadata": {},
   "outputs": [],
   "source": [
    "# Computing sum of all elements within n_put_vol"
   ]
  },
  {
   "cell_type": "code",
   "execution_count": 142,
   "metadata": {},
   "outputs": [
    {
     "data": {
      "text/plain": [
       "array([52.89, 45.14, 63.84, 77.1 , 74.6 ])"
      ]
     },
     "execution_count": 142,
     "metadata": {},
     "output_type": "execute_result"
    }
   ],
   "source": [
    "n_put_vol"
   ]
  },
  {
   "cell_type": "code",
   "execution_count": 143,
   "metadata": {},
   "outputs": [
    {
     "data": {
      "text/plain": [
       "313.57"
      ]
     },
     "execution_count": 143,
     "metadata": {},
     "output_type": "execute_result"
    }
   ],
   "source": [
    "np.sum(n_put_vol)"
   ]
  },
  {
   "cell_type": "code",
   "execution_count": 144,
   "metadata": {},
   "outputs": [],
   "source": [
    "# Computing sum of all array over each row"
   ]
  },
  {
   "cell_type": "code",
   "execution_count": 145,
   "metadata": {},
   "outputs": [
    {
     "data": {
      "text/plain": [
       "array([[3.72976422, 5.0313259 , 3.56590859, 4.15442596, 5.82378816],\n",
       "       [5.25057295, 5.76852545, 0.93164827, 6.91798959, 6.61197358],\n",
       "       [5.81695803, 2.8479014 , 3.01669612, 5.079474  , 4.36180945],\n",
       "       [4.52613336, 5.30363246, 6.15363666, 4.27597284, 9.47040976],\n",
       "       [4.76120558, 3.26829582, 4.02473314, 5.91296293, 3.97225747]])"
      ]
     },
     "execution_count": 145,
     "metadata": {},
     "output_type": "execute_result"
    }
   ],
   "source": [
    "samples_2d"
   ]
  },
  {
   "cell_type": "code",
   "execution_count": 146,
   "metadata": {},
   "outputs": [
    {
     "data": {
      "text/plain": [
       "array([22.30521283, 25.48070983, 21.122839  , 29.72978509, 21.93945494])"
      ]
     },
     "execution_count": 146,
     "metadata": {},
     "output_type": "execute_result"
    }
   ],
   "source": [
    "np.sum(samples_2d, axis=1)"
   ]
  },
  {
   "cell_type": "markdown",
   "metadata": {},
   "source": [
    "# cumsum(a, axis=None) -\n",
    "\n",
    "returns the cumulative sum of the elements along a given axis"
   ]
  },
  {
   "cell_type": "code",
   "execution_count": 147,
   "metadata": {},
   "outputs": [
    {
     "data": {
      "text/plain": [
       "array([ 52.89,  98.03, 161.87, 238.97, 313.57])"
      ]
     },
     "execution_count": 147,
     "metadata": {},
     "output_type": "execute_result"
    }
   ],
   "source": [
    "np.cumsum(n_put_vol)"
   ]
  },
  {
   "cell_type": "code",
   "execution_count": 148,
   "metadata": {},
   "outputs": [],
   "source": [
    "# Using np. format to compute the sum"
   ]
  },
  {
   "cell_type": "code",
   "execution_count": 149,
   "metadata": {},
   "outputs": [
    {
     "data": {
      "text/plain": [
       "4969.254525309065"
      ]
     },
     "execution_count": 149,
     "metadata": {},
     "output_type": "execute_result"
    }
   ],
   "source": [
    "np.sum(samples)"
   ]
  },
  {
   "cell_type": "code",
   "execution_count": 150,
   "metadata": {},
   "outputs": [],
   "source": [
    "# Calling sum() directly on a NumPy object"
   ]
  },
  {
   "cell_type": "code",
   "execution_count": 151,
   "metadata": {},
   "outputs": [
    {
     "data": {
      "text/plain": [
       "4969.254525309065"
      ]
     },
     "execution_count": 151,
     "metadata": {},
     "output_type": "execute_result"
    }
   ],
   "source": [
    "samples.sum()"
   ]
  },
  {
   "cell_type": "markdown",
   "metadata": {},
   "source": [
    "# Array Manipulation"
   ]
  },
  {
   "cell_type": "code",
   "execution_count": 152,
   "metadata": {},
   "outputs": [],
   "source": [
    "a = np.array([1, 2, 3])"
   ]
  },
  {
   "cell_type": "code",
   "execution_count": 153,
   "metadata": {},
   "outputs": [],
   "source": [
    "b = np.array([3, 3, 3])"
   ]
  },
  {
   "cell_type": "code",
   "execution_count": 154,
   "metadata": {},
   "outputs": [
    {
     "data": {
      "text/plain": [
       "array([3, 6, 9])"
      ]
     },
     "execution_count": 154,
     "metadata": {},
     "output_type": "execute_result"
    }
   ],
   "source": [
    "a * b"
   ]
  },
  {
   "cell_type": "code",
   "execution_count": 155,
   "metadata": {},
   "outputs": [],
   "source": [
    "c= np.array([1, 2, 3])"
   ]
  },
  {
   "cell_type": "code",
   "execution_count": 156,
   "metadata": {},
   "outputs": [],
   "source": [
    "d = 3"
   ]
  },
  {
   "cell_type": "code",
   "execution_count": 157,
   "metadata": {},
   "outputs": [
    {
     "data": {
      "text/plain": [
       "array([3, 6, 9])"
      ]
     },
     "execution_count": 157,
     "metadata": {},
     "output_type": "execute_result"
    }
   ],
   "source": [
    "c * d"
   ]
  },
  {
   "cell_type": "markdown",
   "metadata": {},
   "source": [
    "# sqrt(*args) -\n",
    "\n",
    "returns the positive square-root of an array, elementwise."
   ]
  },
  {
   "cell_type": "code",
   "execution_count": 158,
   "metadata": {},
   "outputs": [],
   "source": [
    "# Computing square roots of a given array"
   ]
  },
  {
   "cell_type": "code",
   "execution_count": 159,
   "metadata": {},
   "outputs": [
    {
     "data": {
      "text/plain": [
       "array([1., 2., 3., 4., 5.])"
      ]
     },
     "execution_count": 159,
     "metadata": {},
     "output_type": "execute_result"
    }
   ],
   "source": [
    "np.sqrt([1, 4, 9, 16, 25])"
   ]
  },
  {
   "cell_type": "markdown",
   "metadata": {},
   "source": [
    "# vstack(tup) -\n",
    "\n",
    "stacks arrays provided via tup in sequence vertically (row wise).\n",
    "\n",
    "# hstack(tup) -\n",
    "\n",
    "stacks arrays provided via tup in sequence horizontally (column wise).\n",
    "\n",
    "# column_stack(tup) -\n",
    "\n",
    "stacks 1-dimensional arrays as column into a 2- dimensional array. It takes a sequence of 1-D arrays and stacks them\n",
    "as columns to make a single 2-D array."
   ]
  },
  {
   "cell_type": "code",
   "execution_count": 160,
   "metadata": {},
   "outputs": [],
   "source": [
    "# Creating sample arrays\n"
   ]
  },
  {
   "cell_type": "code",
   "execution_count": 162,
   "metadata": {},
   "outputs": [],
   "source": [
    "a = np.array([1, 2, 3])\n",
    "b = np.array([4, 5, 6])\n",
    "c = np.array([7, 8, 9])"
   ]
  },
  {
   "cell_type": "code",
   "execution_count": 163,
   "metadata": {},
   "outputs": [],
   "source": [
    "# Stacking arrays vertically"
   ]
  },
  {
   "cell_type": "code",
   "execution_count": 164,
   "metadata": {},
   "outputs": [
    {
     "data": {
      "text/plain": [
       "array([[1, 2, 3],\n",
       "       [4, 5, 6],\n",
       "       [7, 8, 9]])"
      ]
     },
     "execution_count": 164,
     "metadata": {},
     "output_type": "execute_result"
    }
   ],
   "source": [
    "np.vstack((a, b, c))"
   ]
  },
  {
   "cell_type": "code",
   "execution_count": 165,
   "metadata": {},
   "outputs": [],
   "source": [
    "# Stacking arrays horizontally"
   ]
  },
  {
   "cell_type": "code",
   "execution_count": 166,
   "metadata": {},
   "outputs": [
    {
     "data": {
      "text/plain": [
       "array([1, 2, 3, 4, 5, 6, 7, 8, 9])"
      ]
     },
     "execution_count": 166,
     "metadata": {},
     "output_type": "execute_result"
    }
   ],
   "source": [
    "np.hstack((a, b, c))"
   ]
  },
  {
   "cell_type": "code",
   "execution_count": 167,
   "metadata": {},
   "outputs": [],
   "source": [
    "# Stacking two arrays together"
   ]
  },
  {
   "cell_type": "code",
   "execution_count": 168,
   "metadata": {},
   "outputs": [
    {
     "data": {
      "text/plain": [
       "array([[1, 4],\n",
       "       [2, 5],\n",
       "       [3, 6]])"
      ]
     },
     "execution_count": 168,
     "metadata": {},
     "output_type": "execute_result"
    }
   ],
   "source": [
    "np.column_stack((a, b))"
   ]
  },
  {
   "cell_type": "code",
   "execution_count": 169,
   "metadata": {},
   "outputs": [],
   "source": [
    "# Stacking three arrays together"
   ]
  },
  {
   "cell_type": "code",
   "execution_count": 170,
   "metadata": {},
   "outputs": [
    {
     "data": {
      "text/plain": [
       "array([[1, 4, 7],\n",
       "       [2, 5, 8],\n",
       "       [3, 6, 9]])"
      ]
     },
     "execution_count": 170,
     "metadata": {},
     "output_type": "execute_result"
    }
   ],
   "source": [
    "np.column_stack((a, b, c))"
   ]
  },
  {
   "cell_type": "markdown",
   "metadata": {},
   "source": [
    "# transpose() -\n",
    "\n",
    "permutes the dimensions of an array."
   ]
  },
  {
   "cell_type": "code",
   "execution_count": 171,
   "metadata": {},
   "outputs": [],
   "source": [
    "# Creating a two-dimensional array with shape (2, 4)"
   ]
  },
  {
   "cell_type": "code",
   "execution_count": 172,
   "metadata": {},
   "outputs": [],
   "source": [
    "a = np.arange(8).reshape(2, 4)"
   ]
  },
  {
   "cell_type": "code",
   "execution_count": 173,
   "metadata": {},
   "outputs": [
    {
     "data": {
      "text/plain": [
       "array([[0, 1, 2, 3],\n",
       "       [4, 5, 6, 7]])"
      ]
     },
     "execution_count": 173,
     "metadata": {},
     "output_type": "execute_result"
    }
   ],
   "source": [
    "a"
   ]
  },
  {
   "cell_type": "code",
   "execution_count": 174,
   "metadata": {},
   "outputs": [],
   "source": [
    "# Transposing the array"
   ]
  },
  {
   "cell_type": "code",
   "execution_count": 175,
   "metadata": {},
   "outputs": [
    {
     "data": {
      "text/plain": [
       "array([[0, 4],\n",
       "       [1, 5],\n",
       "       [2, 6],\n",
       "       [3, 7]])"
      ]
     },
     "execution_count": 175,
     "metadata": {},
     "output_type": "execute_result"
    }
   ],
   "source": [
    "a.transpose()"
   ]
  },
  {
   "cell_type": "code",
   "execution_count": null,
   "metadata": {},
   "outputs": [],
   "source": []
  }
 ],
 "metadata": {
  "kernelspec": {
   "display_name": "Python 3",
   "language": "python",
   "name": "python3"
  },
  "language_info": {
   "codemirror_mode": {
    "name": "ipython",
    "version": 3
   },
   "file_extension": ".py",
   "mimetype": "text/x-python",
   "name": "python",
   "nbconvert_exporter": "python",
   "pygments_lexer": "ipython3",
   "version": "3.7.3"
  }
 },
 "nbformat": 4,
 "nbformat_minor": 2
}
